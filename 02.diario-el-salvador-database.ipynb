{
 "cells": [
  {
   "cell_type": "markdown",
   "id": "abeaf446-d3b6-47e7-9ed4-26df0dcc0a06",
   "metadata": {},
   "source": [
    "# 2. Diario El Salvador - Insert values in the database"
   ]
  },
  {
   "cell_type": "code",
   "execution_count": 1,
   "id": "b6725b2c-7de7-49f3-b4b8-b5124b6a4104",
   "metadata": {},
   "outputs": [],
   "source": [
    "from datetime import date, datetime\n",
    "from database_connection import database_connection\n",
    "\n",
    "import numpy as np\n",
    "import os\n",
    "import pandas as pd"
   ]
  },
  {
   "cell_type": "markdown",
   "id": "0b3a6d40-49a7-4af2-b6d1-96da88e374ce",
   "metadata": {},
   "source": [
    "## Database connection"
   ]
  },
  {
   "cell_type": "code",
   "execution_count": 98,
   "id": "09fb803e-9531-401c-8165-60b9aec75715",
   "metadata": {},
   "outputs": [],
   "source": [
    "# database connection\n",
    "database = database_connection()\n",
    "cursor = database.cursor()"
   ]
  },
  {
   "cell_type": "code",
   "execution_count": 99,
   "id": "dce16fbe-68bf-4299-a9da-00e82cc9f804",
   "metadata": {},
   "outputs": [],
   "source": [
    "# access the datasase\n",
    "cursor.execute(\" USE el_salvador_database\")"
   ]
  },
  {
   "cell_type": "markdown",
   "id": "bd6f5fd3-7244-4116-a6d5-f83066b574b9",
   "metadata": {},
   "source": [
    "## Source table\n",
    "\n",
    "- `source_id` Auto increment\n",
    "- `source_name`\n",
    "- `source_type`\n",
    "- `link`"
   ]
  },
  {
   "cell_type": "markdown",
   "id": "9d2e13cf-33c4-4dbd-b1b3-08db53be2ade",
   "metadata": {},
   "source": [
    "### Insert Diario El Salvador source in the database"
   ]
  },
  {
   "cell_type": "code",
   "execution_count": 9,
   "id": "31550c23-3691-4d2d-9010-1bee7bcceb95",
   "metadata": {},
   "outputs": [],
   "source": [
    "sources = [('Diario El Salvador', 'Website', 'https://diarioelsalvador.com/')]"
   ]
  },
  {
   "cell_type": "code",
   "execution_count": 10,
   "id": "c3e9819e-4bc9-41fc-aa90-9dec0011d32c",
   "metadata": {},
   "outputs": [],
   "source": [
    "source_insert_query = 'INSERT INTO Sources(source_name, source_type, link) VALUES (%s, %s, %s)'"
   ]
  },
  {
   "cell_type": "code",
   "execution_count": 11,
   "id": "e82cf314-5edb-4533-a1ef-922e92d508e7",
   "metadata": {},
   "outputs": [],
   "source": [
    "cursor.executemany(source_insert_query, sources)"
   ]
  },
  {
   "cell_type": "markdown",
   "id": "42cb5a70-5921-4371-aef2-a98992a6f21a",
   "metadata": {},
   "source": [
    "### Show values in the database"
   ]
  },
  {
   "cell_type": "code",
   "execution_count": 12,
   "id": "a46b0bc6-937e-43c1-9235-c6676e902932",
   "metadata": {},
   "outputs": [],
   "source": [
    "# get source of articles\n",
    "cursor.execute(\"SELECT * FROM Sources\")"
   ]
  },
  {
   "cell_type": "code",
   "execution_count": 13,
   "id": "7d1ff79d-bc6b-4f7e-8dfd-946278f583d6",
   "metadata": {},
   "outputs": [
    {
     "data": {
      "text/plain": [
       "[(1, 'Diario El Salvador', 'Website', 'https://diarioelsalvador.com/')]"
      ]
     },
     "execution_count": 13,
     "metadata": {},
     "output_type": "execute_result"
    }
   ],
   "source": [
    "source_result = cursor.fetchall()\n",
    "source_result"
   ]
  },
  {
   "cell_type": "markdown",
   "id": "bae559bf-a071-4ca2-acdd-d896e7023321",
   "metadata": {},
   "source": [
    "## Load dataframe"
   ]
  },
  {
   "cell_type": "code",
   "execution_count": 14,
   "id": "e756cd95-bca9-4405-be56-2e6bb3f51247",
   "metadata": {},
   "outputs": [],
   "source": [
    "df = pd.read_csv('diario-el-salvador.csv')"
   ]
  },
  {
   "cell_type": "markdown",
   "id": "62215df8-258e-40bd-9871-2bb2f3f4146c",
   "metadata": {},
   "source": [
    "## Category table\n",
    "\n",
    "**Columns:**\n",
    "\n",
    "- `category_id` (Auto increment)\n",
    "- `name`\n",
    "- `createAt`\n",
    "- `updateAt` (opcional)"
   ]
  },
  {
   "cell_type": "markdown",
   "id": "a3f3f81c-f839-49ac-bc44-fcbda920de30",
   "metadata": {},
   "source": [
    "### Insert values in the database"
   ]
  },
  {
   "cell_type": "code",
   "execution_count": 15,
   "id": "d32ec48f-e53f-4b88-81a2-db90f7857477",
   "metadata": {},
   "outputs": [
    {
     "data": {
      "text/plain": [
       "0          dedeportes\n",
       "1          dedeportes\n",
       "2          dedeportes\n",
       "3          dedeportes\n",
       "4          dedeportes\n",
       "             ...     \n",
       "16281    deinnovacion\n",
       "16282    deinnovacion\n",
       "16283    deinnovacion\n",
       "16284    deinnovacion\n",
       "16285    deinnovacion\n",
       "Name: category, Length: 16286, dtype: object"
      ]
     },
     "execution_count": 15,
     "metadata": {},
     "output_type": "execute_result"
    }
   ],
   "source": [
    "category_df = df.category.copy()\n",
    "category_df"
   ]
  },
  {
   "cell_type": "code",
   "execution_count": 16,
   "id": "f4059d96-8491-41c3-a647-068e2edc4d3c",
   "metadata": {},
   "outputs": [
    {
     "name": "stdout",
     "output_type": "stream",
     "text": [
      "2023-11-30 21:20:55.108428\n",
      "2023-11-30\n"
     ]
    }
   ],
   "source": [
    "current_datetime = datetime.now()\n",
    "current_date = date(current_datetime.year, current_datetime.month, current_datetime.day)\n",
    "print(current_datetime)\n",
    "print(current_date)"
   ]
  },
  {
   "cell_type": "code",
   "execution_count": 17,
   "id": "743301ba-565f-421e-a462-c624e8d76d05",
   "metadata": {},
   "outputs": [
    {
     "data": {
      "text/html": [
       "<div>\n",
       "<style scoped>\n",
       "    .dataframe tbody tr th:only-of-type {\n",
       "        vertical-align: middle;\n",
       "    }\n",
       "\n",
       "    .dataframe tbody tr th {\n",
       "        vertical-align: top;\n",
       "    }\n",
       "\n",
       "    .dataframe thead th {\n",
       "        text-align: right;\n",
       "    }\n",
       "</style>\n",
       "<table border=\"1\" class=\"dataframe\">\n",
       "  <thead>\n",
       "    <tr style=\"text-align: right;\">\n",
       "      <th></th>\n",
       "      <th>category</th>\n",
       "      <th>create_at</th>\n",
       "    </tr>\n",
       "    <tr>\n",
       "      <th>index</th>\n",
       "      <th></th>\n",
       "      <th></th>\n",
       "    </tr>\n",
       "  </thead>\n",
       "  <tbody>\n",
       "    <tr>\n",
       "      <th>0</th>\n",
       "      <td>dedeportes</td>\n",
       "      <td>2023-11-30</td>\n",
       "    </tr>\n",
       "    <tr>\n",
       "      <th>1</th>\n",
       "      <td>dedeportes</td>\n",
       "      <td>2023-11-30</td>\n",
       "    </tr>\n",
       "    <tr>\n",
       "      <th>2</th>\n",
       "      <td>dedeportes</td>\n",
       "      <td>2023-11-30</td>\n",
       "    </tr>\n",
       "    <tr>\n",
       "      <th>3</th>\n",
       "      <td>dedeportes</td>\n",
       "      <td>2023-11-30</td>\n",
       "    </tr>\n",
       "    <tr>\n",
       "      <th>4</th>\n",
       "      <td>dedeportes</td>\n",
       "      <td>2023-11-30</td>\n",
       "    </tr>\n",
       "    <tr>\n",
       "      <th>...</th>\n",
       "      <td>...</td>\n",
       "      <td>...</td>\n",
       "    </tr>\n",
       "    <tr>\n",
       "      <th>16281</th>\n",
       "      <td>deinnovacion</td>\n",
       "      <td>2023-11-30</td>\n",
       "    </tr>\n",
       "    <tr>\n",
       "      <th>16282</th>\n",
       "      <td>deinnovacion</td>\n",
       "      <td>2023-11-30</td>\n",
       "    </tr>\n",
       "    <tr>\n",
       "      <th>16283</th>\n",
       "      <td>deinnovacion</td>\n",
       "      <td>2023-11-30</td>\n",
       "    </tr>\n",
       "    <tr>\n",
       "      <th>16284</th>\n",
       "      <td>deinnovacion</td>\n",
       "      <td>2023-11-30</td>\n",
       "    </tr>\n",
       "    <tr>\n",
       "      <th>16285</th>\n",
       "      <td>deinnovacion</td>\n",
       "      <td>2023-11-30</td>\n",
       "    </tr>\n",
       "  </tbody>\n",
       "</table>\n",
       "<p>16286 rows × 2 columns</p>\n",
       "</div>"
      ],
      "text/plain": [
       "           category   create_at\n",
       "index                          \n",
       "0        dedeportes  2023-11-30\n",
       "1        dedeportes  2023-11-30\n",
       "2        dedeportes  2023-11-30\n",
       "3        dedeportes  2023-11-30\n",
       "4        dedeportes  2023-11-30\n",
       "...             ...         ...\n",
       "16281  deinnovacion  2023-11-30\n",
       "16282  deinnovacion  2023-11-30\n",
       "16283  deinnovacion  2023-11-30\n",
       "16284  deinnovacion  2023-11-30\n",
       "16285  deinnovacion  2023-11-30\n",
       "\n",
       "[16286 rows x 2 columns]"
      ]
     },
     "execution_count": 17,
     "metadata": {},
     "output_type": "execute_result"
    }
   ],
   "source": [
    "category_df = df.category\n",
    "category_df = category_df.reset_index()\n",
    "category_df['create_at'] = current_date\n",
    "category_df.set_index('index', inplace=True)\n",
    "category_df"
   ]
  },
  {
   "cell_type": "code",
   "execution_count": 18,
   "id": "6595a0c5-2f27-4db7-ac8d-61683ee51f17",
   "metadata": {},
   "outputs": [
    {
     "data": {
      "text/html": [
       "<div>\n",
       "<style scoped>\n",
       "    .dataframe tbody tr th:only-of-type {\n",
       "        vertical-align: middle;\n",
       "    }\n",
       "\n",
       "    .dataframe tbody tr th {\n",
       "        vertical-align: top;\n",
       "    }\n",
       "\n",
       "    .dataframe thead th {\n",
       "        text-align: right;\n",
       "    }\n",
       "</style>\n",
       "<table border=\"1\" class=\"dataframe\">\n",
       "  <thead>\n",
       "    <tr style=\"text-align: right;\">\n",
       "      <th></th>\n",
       "      <th>category</th>\n",
       "      <th>create_at</th>\n",
       "    </tr>\n",
       "    <tr>\n",
       "      <th>index</th>\n",
       "      <th></th>\n",
       "      <th></th>\n",
       "    </tr>\n",
       "  </thead>\n",
       "  <tbody>\n",
       "    <tr>\n",
       "      <th>0</th>\n",
       "      <td>dedeportes</td>\n",
       "      <td>2023-11-30</td>\n",
       "    </tr>\n",
       "    <tr>\n",
       "      <th>1469</th>\n",
       "      <td>dediversion</td>\n",
       "      <td>2023-11-30</td>\n",
       "    </tr>\n",
       "    <tr>\n",
       "      <th>1932</th>\n",
       "      <td>deplaneta</td>\n",
       "      <td>2023-11-30</td>\n",
       "    </tr>\n",
       "    <tr>\n",
       "      <th>3242</th>\n",
       "      <td>dedinero</td>\n",
       "      <td>2023-11-30</td>\n",
       "    </tr>\n",
       "    <tr>\n",
       "      <th>3879</th>\n",
       "      <td>decomercio</td>\n",
       "      <td>2023-11-30</td>\n",
       "    </tr>\n",
       "    <tr>\n",
       "      <th>3944</th>\n",
       "      <td>depais</td>\n",
       "      <td>2023-11-30</td>\n",
       "    </tr>\n",
       "    <tr>\n",
       "      <th>7350</th>\n",
       "      <td>decultura</td>\n",
       "      <td>2023-11-30</td>\n",
       "    </tr>\n",
       "    <tr>\n",
       "      <th>7520</th>\n",
       "      <td>devida</td>\n",
       "      <td>2023-11-30</td>\n",
       "    </tr>\n",
       "    <tr>\n",
       "      <th>7747</th>\n",
       "      <td>depalabra</td>\n",
       "      <td>2023-11-30</td>\n",
       "    </tr>\n",
       "    <tr>\n",
       "      <th>8068</th>\n",
       "      <td>deinnovacion</td>\n",
       "      <td>2023-11-30</td>\n",
       "    </tr>\n",
       "  </tbody>\n",
       "</table>\n",
       "</div>"
      ],
      "text/plain": [
       "           category   create_at\n",
       "index                          \n",
       "0        dedeportes  2023-11-30\n",
       "1469    dediversion  2023-11-30\n",
       "1932      deplaneta  2023-11-30\n",
       "3242       dedinero  2023-11-30\n",
       "3879     decomercio  2023-11-30\n",
       "3944         depais  2023-11-30\n",
       "7350      decultura  2023-11-30\n",
       "7520         devida  2023-11-30\n",
       "7747      depalabra  2023-11-30\n",
       "8068   deinnovacion  2023-11-30"
      ]
     },
     "execution_count": 18,
     "metadata": {},
     "output_type": "execute_result"
    }
   ],
   "source": [
    "category_df.drop_duplicates(inplace=True)\n",
    "category_df"
   ]
  },
  {
   "cell_type": "code",
   "execution_count": 19,
   "id": "068745e0-1168-4c5a-95bc-522e95b3d450",
   "metadata": {},
   "outputs": [
    {
     "name": "stdout",
     "output_type": "stream",
     "text": [
      "('dedeportes', datetime.date(2023, 11, 30))\n",
      "('dediversion', datetime.date(2023, 11, 30))\n",
      "('deplaneta', datetime.date(2023, 11, 30))\n",
      "('dedinero', datetime.date(2023, 11, 30))\n",
      "('decomercio', datetime.date(2023, 11, 30))\n",
      "('depais', datetime.date(2023, 11, 30))\n",
      "('decultura', datetime.date(2023, 11, 30))\n",
      "('devida', datetime.date(2023, 11, 30))\n",
      "('depalabra', datetime.date(2023, 11, 30))\n",
      "('deinnovacion', datetime.date(2023, 11, 30))\n"
     ]
    }
   ],
   "source": [
    "categories = category_df.values\n",
    "cat_query_values = []\n",
    "for category in categories:\n",
    "    print(tuple(category))\n",
    "    cat_query_values.append(tuple(category))"
   ]
  },
  {
   "cell_type": "code",
   "execution_count": 20,
   "id": "3ec21c20-ed48-49a3-8248-dd36fef79306",
   "metadata": {},
   "outputs": [],
   "source": [
    "cat_insert_query = 'INSERT INTO Categories(name, createAt) VALUES (%s, %s)'"
   ]
  },
  {
   "cell_type": "code",
   "execution_count": 21,
   "id": "21ef390e-38b5-4a5e-a662-8148538ce6ef",
   "metadata": {},
   "outputs": [],
   "source": [
    "cursor.executemany(cat_insert_query, cat_query_values)"
   ]
  },
  {
   "cell_type": "code",
   "execution_count": 22,
   "id": "f00d1ca6-69cc-4d3d-8314-e39d97afbb1d",
   "metadata": {},
   "outputs": [],
   "source": [
    "database.commit()"
   ]
  },
  {
   "cell_type": "markdown",
   "id": "50da288f-a3a9-436b-9420-dcf522dee53f",
   "metadata": {},
   "source": [
    "### Show values in the database"
   ]
  },
  {
   "cell_type": "code",
   "execution_count": 23,
   "id": "04099e67-cfd8-4800-8e0c-b82cfe1c4afb",
   "metadata": {},
   "outputs": [
    {
     "name": "stdout",
     "output_type": "stream",
     "text": [
      "(1, 'dedeportes', datetime.datetime(2023, 11, 30, 0, 0), None)\n",
      "(2, 'dediversion', datetime.datetime(2023, 11, 30, 0, 0), None)\n",
      "(3, 'deplaneta', datetime.datetime(2023, 11, 30, 0, 0), None)\n",
      "(4, 'dedinero', datetime.datetime(2023, 11, 30, 0, 0), None)\n",
      "(5, 'decomercio', datetime.datetime(2023, 11, 30, 0, 0), None)\n",
      "(6, 'depais', datetime.datetime(2023, 11, 30, 0, 0), None)\n",
      "(7, 'decultura', datetime.datetime(2023, 11, 30, 0, 0), None)\n",
      "(8, 'devida', datetime.datetime(2023, 11, 30, 0, 0), None)\n",
      "(9, 'depalabra', datetime.datetime(2023, 11, 30, 0, 0), None)\n",
      "(10, 'deinnovacion', datetime.datetime(2023, 11, 30, 0, 0), None)\n"
     ]
    }
   ],
   "source": [
    "cursor.execute(\"SELECT * FROM Categories\")\n",
    "categories_result = cursor.fetchall()\n",
    "\n",
    "for result in categories_result:\n",
    "  print(result)"
   ]
  },
  {
   "cell_type": "markdown",
   "id": "dfb0d188-1ef9-42fa-9546-6d4aadaae6d6",
   "metadata": {},
   "source": [
    "## Authors table\n",
    "\n",
    "**Columns:**\n",
    "\n",
    "- `author_id` (Auto increment)\n",
    "- `handle`"
   ]
  },
  {
   "cell_type": "markdown",
   "id": "57bd587c-c4d6-4e69-8748-f237ebbc26c3",
   "metadata": {},
   "source": [
    "### Insert values in the database"
   ]
  },
  {
   "cell_type": "code",
   "execution_count": 24,
   "id": "0447d4f7-4322-4426-aff8-47e3a7ca54bd",
   "metadata": {},
   "outputs": [
    {
     "data": {
      "text/plain": [
       "0                                          Jonathan Laguán\n",
       "1                                             Raúl Recinos\n",
       "2                                                      AFP\n",
       "3                                        Graciela Guardado\n",
       "4                                           Rafael Cárcamo\n",
       "                               ...                        \n",
       "16281                                      Mauricio Pineda\n",
       "16282                                       Rocío Martínez\n",
       "16283    René Francisco Martínez Granadino / Economista...\n",
       "16284                                                  AFP\n",
       "16285                                                  AFP\n",
       "Name: author, Length: 16286, dtype: object"
      ]
     },
     "execution_count": 24,
     "metadata": {},
     "output_type": "execute_result"
    }
   ],
   "source": [
    "authors_df = df.author.copy()\n",
    "authors_df"
   ]
  },
  {
   "cell_type": "code",
   "execution_count": 25,
   "id": "42645c1d-b901-48ec-8bc5-bb79306ab819",
   "metadata": {},
   "outputs": [
    {
     "data": {
      "text/plain": [
       "0                                          Jonathan Laguán\n",
       "1                                             Raúl Recinos\n",
       "2                                                      AFP\n",
       "3                                        Graciela Guardado\n",
       "4                                           Rafael Cárcamo\n",
       "                               ...                        \n",
       "16085    Ricardo Sosa / Seguridad y criminología @jrica...\n",
       "16091                              Agencias y Kevin Rivera\n",
       "16130              Por Morena Valdez, ministra de Turismo.\n",
       "16228             Ángel Rivera / Comunicador institucional\n",
       "16260                                      Marcos Salguero\n",
       "Name: author, Length: 805, dtype: object"
      ]
     },
     "execution_count": 25,
     "metadata": {},
     "output_type": "execute_result"
    }
   ],
   "source": [
    "authors_df.drop_duplicates(inplace=True)\n",
    "authors_df"
   ]
  },
  {
   "cell_type": "code",
   "execution_count": 26,
   "id": "290335c5-f87c-49ae-a4d2-16f991688582",
   "metadata": {},
   "outputs": [],
   "source": [
    "for author in authors_df.values:\n",
    "    author_query = f'INSERT INTO Authors(handle) VALUES (%s)'\n",
    "    author = author,\n",
    "    cursor.execute(author_query, author)"
   ]
  },
  {
   "cell_type": "code",
   "execution_count": 27,
   "id": "38e35427-786d-4593-a83a-9972f09e9511",
   "metadata": {},
   "outputs": [],
   "source": [
    "database.commit()"
   ]
  },
  {
   "cell_type": "markdown",
   "id": "591820a1-5447-47cd-8865-30eafeb649e1",
   "metadata": {},
   "source": [
    "### Show values in the database"
   ]
  },
  {
   "cell_type": "code",
   "execution_count": 28,
   "id": "4c0570af-a020-4628-812a-30411c926db7",
   "metadata": {},
   "outputs": [
    {
     "name": "stdout",
     "output_type": "stream",
     "text": [
      "(1, 'Jonathan Laguán')\n",
      "(2, 'Raúl Recinos')\n",
      "(3, 'AFP')\n",
      "(4, 'Graciela Guardado')\n",
      "(5, 'Rafael Cárcamo')\n"
     ]
    }
   ],
   "source": [
    "cursor.execute(\"SELECT * FROM Authors\")\n",
    "authors_result = cursor.fetchall()\n",
    "\n",
    "for result in authors_result[:5]:\n",
    "  print(result)"
   ]
  },
  {
   "cell_type": "markdown",
   "id": "829a259e-ffe2-42db-96a5-5f5d56690e5a",
   "metadata": {},
   "source": [
    "## Articles table\n",
    "\n",
    "**Columns:**\n",
    "\n",
    "- `article_id` Auto increment\n",
    "- `title`\n",
    "- `content`\n",
    "- `publication_date`\n",
    "- `url`\n",
    "- `updateAt` (opcional)\n",
    "- `Categories_category_id`\n",
    "- `Authors_author_id`\n",
    "- `Sources_source_id`"
   ]
  },
  {
   "cell_type": "code",
   "execution_count": 29,
   "id": "14eb465b-2f29-4c00-9005-d375fb8a9f94",
   "metadata": {},
   "outputs": [
    {
     "data": {
      "text/html": [
       "<div>\n",
       "<style scoped>\n",
       "    .dataframe tbody tr th:only-of-type {\n",
       "        vertical-align: middle;\n",
       "    }\n",
       "\n",
       "    .dataframe tbody tr th {\n",
       "        vertical-align: top;\n",
       "    }\n",
       "\n",
       "    .dataframe thead th {\n",
       "        text-align: right;\n",
       "    }\n",
       "</style>\n",
       "<table border=\"1\" class=\"dataframe\">\n",
       "  <thead>\n",
       "    <tr style=\"text-align: right;\">\n",
       "      <th></th>\n",
       "      <th>title</th>\n",
       "      <th>date</th>\n",
       "      <th>url</th>\n",
       "      <th>author</th>\n",
       "      <th>content</th>\n",
       "      <th>category</th>\n",
       "    </tr>\n",
       "  </thead>\n",
       "  <tbody>\n",
       "    <tr>\n",
       "      <th>0</th>\n",
       "      <td>Así reaccionó Messi tras la victoria ante Bra...</td>\n",
       "      <td>2023-11-22</td>\n",
       "      <td>https://diarioelsalvador.com/asi-reacciono-mes...</td>\n",
       "      <td>Jonathan Laguán</td>\n",
       "      <td>Pese a que el triunfo de 0-1 de Argentina sobr...</td>\n",
       "      <td>dedeportes</td>\n",
       "    </tr>\n",
       "    <tr>\n",
       "      <th>1</th>\n",
       "      <td>Rebeca Duarte le da a El Salvador la segunda ...</td>\n",
       "      <td>2023-11-22</td>\n",
       "      <td>https://diarioelsalvador.com/rebeca-duarte-le-...</td>\n",
       "      <td>Raúl Recinos</td>\n",
       "      <td>La delegación salvadoreña que compite en los J...</td>\n",
       "      <td>dedeportes</td>\n",
       "    </tr>\n",
       "    <tr>\n",
       "      <th>2</th>\n",
       "      <td>Inter Miami de Messi y Al Nassr de Cristiano ...</td>\n",
       "      <td>2023-11-21</td>\n",
       "      <td>https://diarioelsalvador.com/inter-miami-de-me...</td>\n",
       "      <td>AFP</td>\n",
       "      <td>El Inter de Miami de Lionel Messi se enfrentar...</td>\n",
       "      <td>dedeportes</td>\n",
       "    </tr>\n",
       "    <tr>\n",
       "      <th>3</th>\n",
       "      <td>Scaloni prepara cambios en Argentina y advier...</td>\n",
       "      <td>2023-11-20</td>\n",
       "      <td>https://diarioelsalvador.com/scaloni-prepara-c...</td>\n",
       "      <td>Graciela Guardado</td>\n",
       "      <td>«El equipo lo tengo decidido, pero todavía no ...</td>\n",
       "      <td>dedeportes</td>\n",
       "    </tr>\n",
       "    <tr>\n",
       "      <th>4</th>\n",
       "      <td>Uriel Canjura campeón del XIV Torneo Internac...</td>\n",
       "      <td>2023-11-19</td>\n",
       "      <td>https://diarioelsalvador.com/uriel-canjura-cam...</td>\n",
       "      <td>Rafael Cárcamo</td>\n",
       "      <td>Uriel Canjura, medallista de bronce recienteme...</td>\n",
       "      <td>dedeportes</td>\n",
       "    </tr>\n",
       "    <tr>\n",
       "      <th>...</th>\n",
       "      <td>...</td>\n",
       "      <td>...</td>\n",
       "      <td>...</td>\n",
       "      <td>...</td>\n",
       "      <td>...</td>\n",
       "      <td>...</td>\n",
       "    </tr>\n",
       "    <tr>\n",
       "      <th>16281</th>\n",
       "      <td>Extracción de mareros y droga en la comunidad...</td>\n",
       "      <td>2022-12-26</td>\n",
       "      <td>https://diarioelsalvador.com/extraccion-de-mar...</td>\n",
       "      <td>Mauricio Pineda</td>\n",
       "      <td>Por tercer día consecutivo se ha mantenido la ...</td>\n",
       "      <td>deinnovacion</td>\n",
       "    </tr>\n",
       "    <tr>\n",
       "      <th>16282</th>\n",
       "      <td>Entregan ayuda económica a 104 familias de Sa...</td>\n",
       "      <td>2021-01-08</td>\n",
       "      <td>https://diarioelsalvador.com/entregan-ayuda-ec...</td>\n",
       "      <td>Rocío Martínez</td>\n",
       "      <td>La mañana de este viernes 8 de enero, 104 fami...</td>\n",
       "      <td>deinnovacion</td>\n",
       "    </tr>\n",
       "    <tr>\n",
       "      <th>16283</th>\n",
       "      <td>No está a la venta</td>\n",
       "      <td>2021-12-11</td>\n",
       "      <td>https://diarioelsalvador.com/no-esta-a-la-vent...</td>\n",
       "      <td>René Francisco Martínez Granadino / Economista...</td>\n",
       "      <td>En nuestro país, al referirse a la embajada se...</td>\n",
       "      <td>deinnovacion</td>\n",
       "    </tr>\n",
       "    <tr>\n",
       "      <th>16284</th>\n",
       "      <td>Honduras envía cientos de policías militares ...</td>\n",
       "      <td>2022-11-27</td>\n",
       "      <td>https://diarioelsalvador.com/honduras-envia-ci...</td>\n",
       "      <td>AFP</td>\n",
       "      <td>Los miembros de la Policía Militar de Orden Pú...</td>\n",
       "      <td>deinnovacion</td>\n",
       "    </tr>\n",
       "    <tr>\n",
       "      <th>16285</th>\n",
       "      <td>Peligran en India los niños que la COVID-19 d...</td>\n",
       "      <td>2021-05-23</td>\n",
       "      <td>https://diarioelsalvador.com/peligran-en-india...</td>\n",
       "      <td>AFP</td>\n",
       "      <td>Tres días después de la muerte de su padre a c...</td>\n",
       "      <td>deinnovacion</td>\n",
       "    </tr>\n",
       "  </tbody>\n",
       "</table>\n",
       "<p>16286 rows × 6 columns</p>\n",
       "</div>"
      ],
      "text/plain": [
       "                                                   title        date   \n",
       "0       Así reaccionó Messi tras la victoria ante Bra...  2023-11-22  \\\n",
       "1       Rebeca Duarte le da a El Salvador la segunda ...  2023-11-22   \n",
       "2       Inter Miami de Messi y Al Nassr de Cristiano ...  2023-11-21   \n",
       "3       Scaloni prepara cambios en Argentina y advier...  2023-11-20   \n",
       "4       Uriel Canjura campeón del XIV Torneo Internac...  2023-11-19   \n",
       "...                                                  ...         ...   \n",
       "16281   Extracción de mareros y droga en la comunidad...  2022-12-26   \n",
       "16282   Entregan ayuda económica a 104 familias de Sa...  2021-01-08   \n",
       "16283                                 No está a la venta  2021-12-11   \n",
       "16284   Honduras envía cientos de policías militares ...  2022-11-27   \n",
       "16285   Peligran en India los niños que la COVID-19 d...  2021-05-23   \n",
       "\n",
       "                                                     url   \n",
       "0      https://diarioelsalvador.com/asi-reacciono-mes...  \\\n",
       "1      https://diarioelsalvador.com/rebeca-duarte-le-...   \n",
       "2      https://diarioelsalvador.com/inter-miami-de-me...   \n",
       "3      https://diarioelsalvador.com/scaloni-prepara-c...   \n",
       "4      https://diarioelsalvador.com/uriel-canjura-cam...   \n",
       "...                                                  ...   \n",
       "16281  https://diarioelsalvador.com/extraccion-de-mar...   \n",
       "16282  https://diarioelsalvador.com/entregan-ayuda-ec...   \n",
       "16283  https://diarioelsalvador.com/no-esta-a-la-vent...   \n",
       "16284  https://diarioelsalvador.com/honduras-envia-ci...   \n",
       "16285  https://diarioelsalvador.com/peligran-en-india...   \n",
       "\n",
       "                                                  author   \n",
       "0                                        Jonathan Laguán  \\\n",
       "1                                           Raúl Recinos   \n",
       "2                                                    AFP   \n",
       "3                                      Graciela Guardado   \n",
       "4                                         Rafael Cárcamo   \n",
       "...                                                  ...   \n",
       "16281                                    Mauricio Pineda   \n",
       "16282                                     Rocío Martínez   \n",
       "16283  René Francisco Martínez Granadino / Economista...   \n",
       "16284                                                AFP   \n",
       "16285                                                AFP   \n",
       "\n",
       "                                                 content      category  \n",
       "0      Pese a que el triunfo de 0-1 de Argentina sobr...    dedeportes  \n",
       "1      La delegación salvadoreña que compite en los J...    dedeportes  \n",
       "2      El Inter de Miami de Lionel Messi se enfrentar...    dedeportes  \n",
       "3      «El equipo lo tengo decidido, pero todavía no ...    dedeportes  \n",
       "4      Uriel Canjura, medallista de bronce recienteme...    dedeportes  \n",
       "...                                                  ...           ...  \n",
       "16281  Por tercer día consecutivo se ha mantenido la ...  deinnovacion  \n",
       "16282  La mañana de este viernes 8 de enero, 104 fami...  deinnovacion  \n",
       "16283  En nuestro país, al referirse a la embajada se...  deinnovacion  \n",
       "16284  Los miembros de la Policía Militar de Orden Pú...  deinnovacion  \n",
       "16285  Tres días después de la muerte de su padre a c...  deinnovacion  \n",
       "\n",
       "[16286 rows x 6 columns]"
      ]
     },
     "execution_count": 29,
     "metadata": {},
     "output_type": "execute_result"
    }
   ],
   "source": [
    "df"
   ]
  },
  {
   "cell_type": "markdown",
   "id": "6ffcce97-e0fb-4145-b60b-1288c71b7fb4",
   "metadata": {},
   "source": [
    "### Replace the authors name to author_id"
   ]
  },
  {
   "cell_type": "code",
   "execution_count": 30,
   "id": "1f51c986-a763-4faa-8b84-5be0ba3d273a",
   "metadata": {},
   "outputs": [
    {
     "name": "stdout",
     "output_type": "stream",
     "text": [
      "(1, 'Jonathan Laguán')\n",
      "(2, 'Raúl Recinos')\n",
      "(3, 'AFP')\n",
      "(4, 'Graciela Guardado')\n",
      "(5, 'Rafael Cárcamo')\n"
     ]
    }
   ],
   "source": [
    "cursor.execute(\"SELECT * FROM Authors\")\n",
    "authors_result = cursor.fetchall()\n",
    "\n",
    "for result in authors_result[:5]:\n",
    "  print(result)"
   ]
  },
  {
   "cell_type": "code",
   "execution_count": 31,
   "id": "ed0586af-ecde-406a-8c58-89a0a8f104a5",
   "metadata": {
    "scrolled": true
   },
   "outputs": [
    {
     "name": "stdout",
     "output_type": "stream",
     "text": [
      "author_id array size: 16286\n"
     ]
    }
   ],
   "source": [
    "authors_id = []\n",
    "for author_name in df.author:\n",
    "    for author_id, values in authors_result:\n",
    "        if author_name == values:\n",
    "            authors_id.append(author_id)\n",
    "\n",
    "print(f'author_id array size: {len(authors_id)}')"
   ]
  },
  {
   "cell_type": "code",
   "execution_count": 32,
   "id": "768ed2cf-c75e-4131-81aa-29380f1c727c",
   "metadata": {},
   "outputs": [
    {
     "data": {
      "text/html": [
       "<div>\n",
       "<style scoped>\n",
       "    .dataframe tbody tr th:only-of-type {\n",
       "        vertical-align: middle;\n",
       "    }\n",
       "\n",
       "    .dataframe tbody tr th {\n",
       "        vertical-align: top;\n",
       "    }\n",
       "\n",
       "    .dataframe thead th {\n",
       "        text-align: right;\n",
       "    }\n",
       "</style>\n",
       "<table border=\"1\" class=\"dataframe\">\n",
       "  <thead>\n",
       "    <tr style=\"text-align: right;\">\n",
       "      <th></th>\n",
       "      <th>title</th>\n",
       "      <th>date</th>\n",
       "      <th>url</th>\n",
       "      <th>author</th>\n",
       "      <th>content</th>\n",
       "      <th>category</th>\n",
       "    </tr>\n",
       "  </thead>\n",
       "  <tbody>\n",
       "    <tr>\n",
       "      <th>0</th>\n",
       "      <td>Así reaccionó Messi tras la victoria ante Bra...</td>\n",
       "      <td>2023-11-22</td>\n",
       "      <td>https://diarioelsalvador.com/asi-reacciono-mes...</td>\n",
       "      <td>1</td>\n",
       "      <td>Pese a que el triunfo de 0-1 de Argentina sobr...</td>\n",
       "      <td>dedeportes</td>\n",
       "    </tr>\n",
       "    <tr>\n",
       "      <th>1</th>\n",
       "      <td>Rebeca Duarte le da a El Salvador la segunda ...</td>\n",
       "      <td>2023-11-22</td>\n",
       "      <td>https://diarioelsalvador.com/rebeca-duarte-le-...</td>\n",
       "      <td>2</td>\n",
       "      <td>La delegación salvadoreña que compite en los J...</td>\n",
       "      <td>dedeportes</td>\n",
       "    </tr>\n",
       "    <tr>\n",
       "      <th>2</th>\n",
       "      <td>Inter Miami de Messi y Al Nassr de Cristiano ...</td>\n",
       "      <td>2023-11-21</td>\n",
       "      <td>https://diarioelsalvador.com/inter-miami-de-me...</td>\n",
       "      <td>3</td>\n",
       "      <td>El Inter de Miami de Lionel Messi se enfrentar...</td>\n",
       "      <td>dedeportes</td>\n",
       "    </tr>\n",
       "    <tr>\n",
       "      <th>3</th>\n",
       "      <td>Scaloni prepara cambios en Argentina y advier...</td>\n",
       "      <td>2023-11-20</td>\n",
       "      <td>https://diarioelsalvador.com/scaloni-prepara-c...</td>\n",
       "      <td>4</td>\n",
       "      <td>«El equipo lo tengo decidido, pero todavía no ...</td>\n",
       "      <td>dedeportes</td>\n",
       "    </tr>\n",
       "    <tr>\n",
       "      <th>4</th>\n",
       "      <td>Uriel Canjura campeón del XIV Torneo Internac...</td>\n",
       "      <td>2023-11-19</td>\n",
       "      <td>https://diarioelsalvador.com/uriel-canjura-cam...</td>\n",
       "      <td>5</td>\n",
       "      <td>Uriel Canjura, medallista de bronce recienteme...</td>\n",
       "      <td>dedeportes</td>\n",
       "    </tr>\n",
       "    <tr>\n",
       "      <th>...</th>\n",
       "      <td>...</td>\n",
       "      <td>...</td>\n",
       "      <td>...</td>\n",
       "      <td>...</td>\n",
       "      <td>...</td>\n",
       "      <td>...</td>\n",
       "    </tr>\n",
       "    <tr>\n",
       "      <th>16281</th>\n",
       "      <td>Extracción de mareros y droga en la comunidad...</td>\n",
       "      <td>2022-12-26</td>\n",
       "      <td>https://diarioelsalvador.com/extraccion-de-mar...</td>\n",
       "      <td>150</td>\n",
       "      <td>Por tercer día consecutivo se ha mantenido la ...</td>\n",
       "      <td>deinnovacion</td>\n",
       "    </tr>\n",
       "    <tr>\n",
       "      <th>16282</th>\n",
       "      <td>Entregan ayuda económica a 104 familias de Sa...</td>\n",
       "      <td>2021-01-08</td>\n",
       "      <td>https://diarioelsalvador.com/entregan-ayuda-ec...</td>\n",
       "      <td>48</td>\n",
       "      <td>La mañana de este viernes 8 de enero, 104 fami...</td>\n",
       "      <td>deinnovacion</td>\n",
       "    </tr>\n",
       "    <tr>\n",
       "      <th>16283</th>\n",
       "      <td>No está a la venta</td>\n",
       "      <td>2021-12-11</td>\n",
       "      <td>https://diarioelsalvador.com/no-esta-a-la-vent...</td>\n",
       "      <td>371</td>\n",
       "      <td>En nuestro país, al referirse a la embajada se...</td>\n",
       "      <td>deinnovacion</td>\n",
       "    </tr>\n",
       "    <tr>\n",
       "      <th>16284</th>\n",
       "      <td>Honduras envía cientos de policías militares ...</td>\n",
       "      <td>2022-11-27</td>\n",
       "      <td>https://diarioelsalvador.com/honduras-envia-ci...</td>\n",
       "      <td>3</td>\n",
       "      <td>Los miembros de la Policía Militar de Orden Pú...</td>\n",
       "      <td>deinnovacion</td>\n",
       "    </tr>\n",
       "    <tr>\n",
       "      <th>16285</th>\n",
       "      <td>Peligran en India los niños que la COVID-19 d...</td>\n",
       "      <td>2021-05-23</td>\n",
       "      <td>https://diarioelsalvador.com/peligran-en-india...</td>\n",
       "      <td>3</td>\n",
       "      <td>Tres días después de la muerte de su padre a c...</td>\n",
       "      <td>deinnovacion</td>\n",
       "    </tr>\n",
       "  </tbody>\n",
       "</table>\n",
       "<p>16286 rows × 6 columns</p>\n",
       "</div>"
      ],
      "text/plain": [
       "                                                   title        date   \n",
       "0       Así reaccionó Messi tras la victoria ante Bra...  2023-11-22  \\\n",
       "1       Rebeca Duarte le da a El Salvador la segunda ...  2023-11-22   \n",
       "2       Inter Miami de Messi y Al Nassr de Cristiano ...  2023-11-21   \n",
       "3       Scaloni prepara cambios en Argentina y advier...  2023-11-20   \n",
       "4       Uriel Canjura campeón del XIV Torneo Internac...  2023-11-19   \n",
       "...                                                  ...         ...   \n",
       "16281   Extracción de mareros y droga en la comunidad...  2022-12-26   \n",
       "16282   Entregan ayuda económica a 104 familias de Sa...  2021-01-08   \n",
       "16283                                 No está a la venta  2021-12-11   \n",
       "16284   Honduras envía cientos de policías militares ...  2022-11-27   \n",
       "16285   Peligran en India los niños que la COVID-19 d...  2021-05-23   \n",
       "\n",
       "                                                     url  author   \n",
       "0      https://diarioelsalvador.com/asi-reacciono-mes...       1  \\\n",
       "1      https://diarioelsalvador.com/rebeca-duarte-le-...       2   \n",
       "2      https://diarioelsalvador.com/inter-miami-de-me...       3   \n",
       "3      https://diarioelsalvador.com/scaloni-prepara-c...       4   \n",
       "4      https://diarioelsalvador.com/uriel-canjura-cam...       5   \n",
       "...                                                  ...     ...   \n",
       "16281  https://diarioelsalvador.com/extraccion-de-mar...     150   \n",
       "16282  https://diarioelsalvador.com/entregan-ayuda-ec...      48   \n",
       "16283  https://diarioelsalvador.com/no-esta-a-la-vent...     371   \n",
       "16284  https://diarioelsalvador.com/honduras-envia-ci...       3   \n",
       "16285  https://diarioelsalvador.com/peligran-en-india...       3   \n",
       "\n",
       "                                                 content      category  \n",
       "0      Pese a que el triunfo de 0-1 de Argentina sobr...    dedeportes  \n",
       "1      La delegación salvadoreña que compite en los J...    dedeportes  \n",
       "2      El Inter de Miami de Lionel Messi se enfrentar...    dedeportes  \n",
       "3      «El equipo lo tengo decidido, pero todavía no ...    dedeportes  \n",
       "4      Uriel Canjura, medallista de bronce recienteme...    dedeportes  \n",
       "...                                                  ...           ...  \n",
       "16281  Por tercer día consecutivo se ha mantenido la ...  deinnovacion  \n",
       "16282  La mañana de este viernes 8 de enero, 104 fami...  deinnovacion  \n",
       "16283  En nuestro país, al referirse a la embajada se...  deinnovacion  \n",
       "16284  Los miembros de la Policía Militar de Orden Pú...  deinnovacion  \n",
       "16285  Tres días después de la muerte de su padre a c...  deinnovacion  \n",
       "\n",
       "[16286 rows x 6 columns]"
      ]
     },
     "execution_count": 32,
     "metadata": {},
     "output_type": "execute_result"
    }
   ],
   "source": [
    "df.author = authors_id\n",
    "df"
   ]
  },
  {
   "cell_type": "markdown",
   "id": "9986d19a-f56e-4382-a5ae-dc734ab1063d",
   "metadata": {},
   "source": [
    "### Replace the category name to category_id"
   ]
  },
  {
   "cell_type": "code",
   "execution_count": 33,
   "id": "7fb9be69-b921-4415-8a4e-0207eaf28fcd",
   "metadata": {},
   "outputs": [
    {
     "name": "stdout",
     "output_type": "stream",
     "text": [
      "(1, 'dedeportes', datetime.datetime(2023, 11, 30, 0, 0), None)\n",
      "(2, 'dediversion', datetime.datetime(2023, 11, 30, 0, 0), None)\n",
      "(3, 'deplaneta', datetime.datetime(2023, 11, 30, 0, 0), None)\n",
      "(4, 'dedinero', datetime.datetime(2023, 11, 30, 0, 0), None)\n",
      "(5, 'decomercio', datetime.datetime(2023, 11, 30, 0, 0), None)\n"
     ]
    }
   ],
   "source": [
    "cursor.execute(\"SELECT * FROM Categories\")\n",
    "categories_result = cursor.fetchall()\n",
    "\n",
    "for result in categories_result[:5]:\n",
    "  print(result)"
   ]
  },
  {
   "cell_type": "code",
   "execution_count": 34,
   "id": "ca32fd00-8046-4ab4-bd1e-d58cf8203f42",
   "metadata": {},
   "outputs": [
    {
     "name": "stdout",
     "output_type": "stream",
     "text": [
      "categories_id array size: 16286\n"
     ]
    }
   ],
   "source": [
    "categories_id = []\n",
    "for category_name in df.category:\n",
    "    for category_id, values, _, _ in categories_result:\n",
    "        if category_name == values:\n",
    "            categories_id.append(category_id)\n",
    "\n",
    "print(f'categories_id array size: {len(categories_id)}')"
   ]
  },
  {
   "cell_type": "code",
   "execution_count": 35,
   "id": "b843a481-2ee4-48c4-8974-8c2ea3fa7065",
   "metadata": {},
   "outputs": [
    {
     "data": {
      "text/html": [
       "<div>\n",
       "<style scoped>\n",
       "    .dataframe tbody tr th:only-of-type {\n",
       "        vertical-align: middle;\n",
       "    }\n",
       "\n",
       "    .dataframe tbody tr th {\n",
       "        vertical-align: top;\n",
       "    }\n",
       "\n",
       "    .dataframe thead th {\n",
       "        text-align: right;\n",
       "    }\n",
       "</style>\n",
       "<table border=\"1\" class=\"dataframe\">\n",
       "  <thead>\n",
       "    <tr style=\"text-align: right;\">\n",
       "      <th></th>\n",
       "      <th>title</th>\n",
       "      <th>date</th>\n",
       "      <th>url</th>\n",
       "      <th>author</th>\n",
       "      <th>content</th>\n",
       "      <th>category</th>\n",
       "    </tr>\n",
       "  </thead>\n",
       "  <tbody>\n",
       "    <tr>\n",
       "      <th>0</th>\n",
       "      <td>Así reaccionó Messi tras la victoria ante Bra...</td>\n",
       "      <td>2023-11-22</td>\n",
       "      <td>https://diarioelsalvador.com/asi-reacciono-mes...</td>\n",
       "      <td>1</td>\n",
       "      <td>Pese a que el triunfo de 0-1 de Argentina sobr...</td>\n",
       "      <td>1</td>\n",
       "    </tr>\n",
       "    <tr>\n",
       "      <th>1</th>\n",
       "      <td>Rebeca Duarte le da a El Salvador la segunda ...</td>\n",
       "      <td>2023-11-22</td>\n",
       "      <td>https://diarioelsalvador.com/rebeca-duarte-le-...</td>\n",
       "      <td>2</td>\n",
       "      <td>La delegación salvadoreña que compite en los J...</td>\n",
       "      <td>1</td>\n",
       "    </tr>\n",
       "    <tr>\n",
       "      <th>2</th>\n",
       "      <td>Inter Miami de Messi y Al Nassr de Cristiano ...</td>\n",
       "      <td>2023-11-21</td>\n",
       "      <td>https://diarioelsalvador.com/inter-miami-de-me...</td>\n",
       "      <td>3</td>\n",
       "      <td>El Inter de Miami de Lionel Messi se enfrentar...</td>\n",
       "      <td>1</td>\n",
       "    </tr>\n",
       "    <tr>\n",
       "      <th>3</th>\n",
       "      <td>Scaloni prepara cambios en Argentina y advier...</td>\n",
       "      <td>2023-11-20</td>\n",
       "      <td>https://diarioelsalvador.com/scaloni-prepara-c...</td>\n",
       "      <td>4</td>\n",
       "      <td>«El equipo lo tengo decidido, pero todavía no ...</td>\n",
       "      <td>1</td>\n",
       "    </tr>\n",
       "    <tr>\n",
       "      <th>4</th>\n",
       "      <td>Uriel Canjura campeón del XIV Torneo Internac...</td>\n",
       "      <td>2023-11-19</td>\n",
       "      <td>https://diarioelsalvador.com/uriel-canjura-cam...</td>\n",
       "      <td>5</td>\n",
       "      <td>Uriel Canjura, medallista de bronce recienteme...</td>\n",
       "      <td>1</td>\n",
       "    </tr>\n",
       "    <tr>\n",
       "      <th>...</th>\n",
       "      <td>...</td>\n",
       "      <td>...</td>\n",
       "      <td>...</td>\n",
       "      <td>...</td>\n",
       "      <td>...</td>\n",
       "      <td>...</td>\n",
       "    </tr>\n",
       "    <tr>\n",
       "      <th>16281</th>\n",
       "      <td>Extracción de mareros y droga en la comunidad...</td>\n",
       "      <td>2022-12-26</td>\n",
       "      <td>https://diarioelsalvador.com/extraccion-de-mar...</td>\n",
       "      <td>150</td>\n",
       "      <td>Por tercer día consecutivo se ha mantenido la ...</td>\n",
       "      <td>10</td>\n",
       "    </tr>\n",
       "    <tr>\n",
       "      <th>16282</th>\n",
       "      <td>Entregan ayuda económica a 104 familias de Sa...</td>\n",
       "      <td>2021-01-08</td>\n",
       "      <td>https://diarioelsalvador.com/entregan-ayuda-ec...</td>\n",
       "      <td>48</td>\n",
       "      <td>La mañana de este viernes 8 de enero, 104 fami...</td>\n",
       "      <td>10</td>\n",
       "    </tr>\n",
       "    <tr>\n",
       "      <th>16283</th>\n",
       "      <td>No está a la venta</td>\n",
       "      <td>2021-12-11</td>\n",
       "      <td>https://diarioelsalvador.com/no-esta-a-la-vent...</td>\n",
       "      <td>371</td>\n",
       "      <td>En nuestro país, al referirse a la embajada se...</td>\n",
       "      <td>10</td>\n",
       "    </tr>\n",
       "    <tr>\n",
       "      <th>16284</th>\n",
       "      <td>Honduras envía cientos de policías militares ...</td>\n",
       "      <td>2022-11-27</td>\n",
       "      <td>https://diarioelsalvador.com/honduras-envia-ci...</td>\n",
       "      <td>3</td>\n",
       "      <td>Los miembros de la Policía Militar de Orden Pú...</td>\n",
       "      <td>10</td>\n",
       "    </tr>\n",
       "    <tr>\n",
       "      <th>16285</th>\n",
       "      <td>Peligran en India los niños que la COVID-19 d...</td>\n",
       "      <td>2021-05-23</td>\n",
       "      <td>https://diarioelsalvador.com/peligran-en-india...</td>\n",
       "      <td>3</td>\n",
       "      <td>Tres días después de la muerte de su padre a c...</td>\n",
       "      <td>10</td>\n",
       "    </tr>\n",
       "  </tbody>\n",
       "</table>\n",
       "<p>16286 rows × 6 columns</p>\n",
       "</div>"
      ],
      "text/plain": [
       "                                                   title        date   \n",
       "0       Así reaccionó Messi tras la victoria ante Bra...  2023-11-22  \\\n",
       "1       Rebeca Duarte le da a El Salvador la segunda ...  2023-11-22   \n",
       "2       Inter Miami de Messi y Al Nassr de Cristiano ...  2023-11-21   \n",
       "3       Scaloni prepara cambios en Argentina y advier...  2023-11-20   \n",
       "4       Uriel Canjura campeón del XIV Torneo Internac...  2023-11-19   \n",
       "...                                                  ...         ...   \n",
       "16281   Extracción de mareros y droga en la comunidad...  2022-12-26   \n",
       "16282   Entregan ayuda económica a 104 familias de Sa...  2021-01-08   \n",
       "16283                                 No está a la venta  2021-12-11   \n",
       "16284   Honduras envía cientos de policías militares ...  2022-11-27   \n",
       "16285   Peligran en India los niños que la COVID-19 d...  2021-05-23   \n",
       "\n",
       "                                                     url  author   \n",
       "0      https://diarioelsalvador.com/asi-reacciono-mes...       1  \\\n",
       "1      https://diarioelsalvador.com/rebeca-duarte-le-...       2   \n",
       "2      https://diarioelsalvador.com/inter-miami-de-me...       3   \n",
       "3      https://diarioelsalvador.com/scaloni-prepara-c...       4   \n",
       "4      https://diarioelsalvador.com/uriel-canjura-cam...       5   \n",
       "...                                                  ...     ...   \n",
       "16281  https://diarioelsalvador.com/extraccion-de-mar...     150   \n",
       "16282  https://diarioelsalvador.com/entregan-ayuda-ec...      48   \n",
       "16283  https://diarioelsalvador.com/no-esta-a-la-vent...     371   \n",
       "16284  https://diarioelsalvador.com/honduras-envia-ci...       3   \n",
       "16285  https://diarioelsalvador.com/peligran-en-india...       3   \n",
       "\n",
       "                                                 content  category  \n",
       "0      Pese a que el triunfo de 0-1 de Argentina sobr...         1  \n",
       "1      La delegación salvadoreña que compite en los J...         1  \n",
       "2      El Inter de Miami de Lionel Messi se enfrentar...         1  \n",
       "3      «El equipo lo tengo decidido, pero todavía no ...         1  \n",
       "4      Uriel Canjura, medallista de bronce recienteme...         1  \n",
       "...                                                  ...       ...  \n",
       "16281  Por tercer día consecutivo se ha mantenido la ...        10  \n",
       "16282  La mañana de este viernes 8 de enero, 104 fami...        10  \n",
       "16283  En nuestro país, al referirse a la embajada se...        10  \n",
       "16284  Los miembros de la Policía Militar de Orden Pú...        10  \n",
       "16285  Tres días después de la muerte de su padre a c...        10  \n",
       "\n",
       "[16286 rows x 6 columns]"
      ]
     },
     "execution_count": 35,
     "metadata": {},
     "output_type": "execute_result"
    }
   ],
   "source": [
    "df.category = categories_id\n",
    "df"
   ]
  },
  {
   "cell_type": "markdown",
   "id": "c8a116dd-a9aa-4d6b-ba64-05f4e741d895",
   "metadata": {},
   "source": [
    "### Added source column"
   ]
  },
  {
   "cell_type": "code",
   "execution_count": 36,
   "id": "98f63cce-20de-4198-8f06-a464ef63677d",
   "metadata": {},
   "outputs": [],
   "source": [
    "SOURCE = 'Diario El Salvador'"
   ]
  },
  {
   "cell_type": "code",
   "execution_count": 37,
   "id": "55ffd03c-1696-40db-ae12-1abdcb7c5e2b",
   "metadata": {},
   "outputs": [
    {
     "name": "stdout",
     "output_type": "stream",
     "text": [
      "(1, 'Diario El Salvador', 'Website', 'https://diarioelsalvador.com/')\n"
     ]
    }
   ],
   "source": [
    "cursor.execute(\"SELECT * FROM Sources\")\n",
    "sources_result = cursor.fetchall()\n",
    "\n",
    "for result in sources_result[:5]:\n",
    "  print(result)"
   ]
  },
  {
   "cell_type": "code",
   "execution_count": 38,
   "id": "6bc64ec3-48ea-4097-9f53-869b2b5851d0",
   "metadata": {},
   "outputs": [
    {
     "name": "stdout",
     "output_type": "stream",
     "text": [
      "Diario El Salvador - ID: 1\n"
     ]
    }
   ],
   "source": [
    "source_id = None\n",
    "for id, name, _, _ in sources_result:\n",
    "    if name == SOURCE:\n",
    "        source_id = id\n",
    "        break\n",
    "\n",
    "if source_id is None:\n",
    "    print(f'ERROR! The source_id is None.')\n",
    "\n",
    "print(f'{SOURCE} - ID: {source_id}')"
   ]
  },
  {
   "cell_type": "code",
   "execution_count": 39,
   "id": "0c83c23c-739f-42a3-b9f9-e6a820589ac4",
   "metadata": {},
   "outputs": [
    {
     "data": {
      "text/html": [
       "<div>\n",
       "<style scoped>\n",
       "    .dataframe tbody tr th:only-of-type {\n",
       "        vertical-align: middle;\n",
       "    }\n",
       "\n",
       "    .dataframe tbody tr th {\n",
       "        vertical-align: top;\n",
       "    }\n",
       "\n",
       "    .dataframe thead th {\n",
       "        text-align: right;\n",
       "    }\n",
       "</style>\n",
       "<table border=\"1\" class=\"dataframe\">\n",
       "  <thead>\n",
       "    <tr style=\"text-align: right;\">\n",
       "      <th></th>\n",
       "      <th>title</th>\n",
       "      <th>date</th>\n",
       "      <th>url</th>\n",
       "      <th>author</th>\n",
       "      <th>content</th>\n",
       "      <th>category</th>\n",
       "      <th>source_id</th>\n",
       "    </tr>\n",
       "  </thead>\n",
       "  <tbody>\n",
       "    <tr>\n",
       "      <th>0</th>\n",
       "      <td>Así reaccionó Messi tras la victoria ante Bra...</td>\n",
       "      <td>2023-11-22</td>\n",
       "      <td>https://diarioelsalvador.com/asi-reacciono-mes...</td>\n",
       "      <td>1</td>\n",
       "      <td>Pese a que el triunfo de 0-1 de Argentina sobr...</td>\n",
       "      <td>1</td>\n",
       "      <td>1</td>\n",
       "    </tr>\n",
       "    <tr>\n",
       "      <th>1</th>\n",
       "      <td>Rebeca Duarte le da a El Salvador la segunda ...</td>\n",
       "      <td>2023-11-22</td>\n",
       "      <td>https://diarioelsalvador.com/rebeca-duarte-le-...</td>\n",
       "      <td>2</td>\n",
       "      <td>La delegación salvadoreña que compite en los J...</td>\n",
       "      <td>1</td>\n",
       "      <td>1</td>\n",
       "    </tr>\n",
       "    <tr>\n",
       "      <th>2</th>\n",
       "      <td>Inter Miami de Messi y Al Nassr de Cristiano ...</td>\n",
       "      <td>2023-11-21</td>\n",
       "      <td>https://diarioelsalvador.com/inter-miami-de-me...</td>\n",
       "      <td>3</td>\n",
       "      <td>El Inter de Miami de Lionel Messi se enfrentar...</td>\n",
       "      <td>1</td>\n",
       "      <td>1</td>\n",
       "    </tr>\n",
       "    <tr>\n",
       "      <th>3</th>\n",
       "      <td>Scaloni prepara cambios en Argentina y advier...</td>\n",
       "      <td>2023-11-20</td>\n",
       "      <td>https://diarioelsalvador.com/scaloni-prepara-c...</td>\n",
       "      <td>4</td>\n",
       "      <td>«El equipo lo tengo decidido, pero todavía no ...</td>\n",
       "      <td>1</td>\n",
       "      <td>1</td>\n",
       "    </tr>\n",
       "    <tr>\n",
       "      <th>4</th>\n",
       "      <td>Uriel Canjura campeón del XIV Torneo Internac...</td>\n",
       "      <td>2023-11-19</td>\n",
       "      <td>https://diarioelsalvador.com/uriel-canjura-cam...</td>\n",
       "      <td>5</td>\n",
       "      <td>Uriel Canjura, medallista de bronce recienteme...</td>\n",
       "      <td>1</td>\n",
       "      <td>1</td>\n",
       "    </tr>\n",
       "    <tr>\n",
       "      <th>...</th>\n",
       "      <td>...</td>\n",
       "      <td>...</td>\n",
       "      <td>...</td>\n",
       "      <td>...</td>\n",
       "      <td>...</td>\n",
       "      <td>...</td>\n",
       "      <td>...</td>\n",
       "    </tr>\n",
       "    <tr>\n",
       "      <th>16281</th>\n",
       "      <td>Extracción de mareros y droga en la comunidad...</td>\n",
       "      <td>2022-12-26</td>\n",
       "      <td>https://diarioelsalvador.com/extraccion-de-mar...</td>\n",
       "      <td>150</td>\n",
       "      <td>Por tercer día consecutivo se ha mantenido la ...</td>\n",
       "      <td>10</td>\n",
       "      <td>1</td>\n",
       "    </tr>\n",
       "    <tr>\n",
       "      <th>16282</th>\n",
       "      <td>Entregan ayuda económica a 104 familias de Sa...</td>\n",
       "      <td>2021-01-08</td>\n",
       "      <td>https://diarioelsalvador.com/entregan-ayuda-ec...</td>\n",
       "      <td>48</td>\n",
       "      <td>La mañana de este viernes 8 de enero, 104 fami...</td>\n",
       "      <td>10</td>\n",
       "      <td>1</td>\n",
       "    </tr>\n",
       "    <tr>\n",
       "      <th>16283</th>\n",
       "      <td>No está a la venta</td>\n",
       "      <td>2021-12-11</td>\n",
       "      <td>https://diarioelsalvador.com/no-esta-a-la-vent...</td>\n",
       "      <td>371</td>\n",
       "      <td>En nuestro país, al referirse a la embajada se...</td>\n",
       "      <td>10</td>\n",
       "      <td>1</td>\n",
       "    </tr>\n",
       "    <tr>\n",
       "      <th>16284</th>\n",
       "      <td>Honduras envía cientos de policías militares ...</td>\n",
       "      <td>2022-11-27</td>\n",
       "      <td>https://diarioelsalvador.com/honduras-envia-ci...</td>\n",
       "      <td>3</td>\n",
       "      <td>Los miembros de la Policía Militar de Orden Pú...</td>\n",
       "      <td>10</td>\n",
       "      <td>1</td>\n",
       "    </tr>\n",
       "    <tr>\n",
       "      <th>16285</th>\n",
       "      <td>Peligran en India los niños que la COVID-19 d...</td>\n",
       "      <td>2021-05-23</td>\n",
       "      <td>https://diarioelsalvador.com/peligran-en-india...</td>\n",
       "      <td>3</td>\n",
       "      <td>Tres días después de la muerte de su padre a c...</td>\n",
       "      <td>10</td>\n",
       "      <td>1</td>\n",
       "    </tr>\n",
       "  </tbody>\n",
       "</table>\n",
       "<p>16286 rows × 7 columns</p>\n",
       "</div>"
      ],
      "text/plain": [
       "                                                   title        date   \n",
       "0       Así reaccionó Messi tras la victoria ante Bra...  2023-11-22  \\\n",
       "1       Rebeca Duarte le da a El Salvador la segunda ...  2023-11-22   \n",
       "2       Inter Miami de Messi y Al Nassr de Cristiano ...  2023-11-21   \n",
       "3       Scaloni prepara cambios en Argentina y advier...  2023-11-20   \n",
       "4       Uriel Canjura campeón del XIV Torneo Internac...  2023-11-19   \n",
       "...                                                  ...         ...   \n",
       "16281   Extracción de mareros y droga en la comunidad...  2022-12-26   \n",
       "16282   Entregan ayuda económica a 104 familias de Sa...  2021-01-08   \n",
       "16283                                 No está a la venta  2021-12-11   \n",
       "16284   Honduras envía cientos de policías militares ...  2022-11-27   \n",
       "16285   Peligran en India los niños que la COVID-19 d...  2021-05-23   \n",
       "\n",
       "                                                     url  author   \n",
       "0      https://diarioelsalvador.com/asi-reacciono-mes...       1  \\\n",
       "1      https://diarioelsalvador.com/rebeca-duarte-le-...       2   \n",
       "2      https://diarioelsalvador.com/inter-miami-de-me...       3   \n",
       "3      https://diarioelsalvador.com/scaloni-prepara-c...       4   \n",
       "4      https://diarioelsalvador.com/uriel-canjura-cam...       5   \n",
       "...                                                  ...     ...   \n",
       "16281  https://diarioelsalvador.com/extraccion-de-mar...     150   \n",
       "16282  https://diarioelsalvador.com/entregan-ayuda-ec...      48   \n",
       "16283  https://diarioelsalvador.com/no-esta-a-la-vent...     371   \n",
       "16284  https://diarioelsalvador.com/honduras-envia-ci...       3   \n",
       "16285  https://diarioelsalvador.com/peligran-en-india...       3   \n",
       "\n",
       "                                                 content  category  source_id  \n",
       "0      Pese a que el triunfo de 0-1 de Argentina sobr...         1          1  \n",
       "1      La delegación salvadoreña que compite en los J...         1          1  \n",
       "2      El Inter de Miami de Lionel Messi se enfrentar...         1          1  \n",
       "3      «El equipo lo tengo decidido, pero todavía no ...         1          1  \n",
       "4      Uriel Canjura, medallista de bronce recienteme...         1          1  \n",
       "...                                                  ...       ...        ...  \n",
       "16281  Por tercer día consecutivo se ha mantenido la ...        10          1  \n",
       "16282  La mañana de este viernes 8 de enero, 104 fami...        10          1  \n",
       "16283  En nuestro país, al referirse a la embajada se...        10          1  \n",
       "16284  Los miembros de la Policía Militar de Orden Pú...        10          1  \n",
       "16285  Tres días después de la muerte de su padre a c...        10          1  \n",
       "\n",
       "[16286 rows x 7 columns]"
      ]
     },
     "execution_count": 39,
     "metadata": {},
     "output_type": "execute_result"
    }
   ],
   "source": [
    "if source_id is not None:\n",
    "    df['source_id'] = source_id\n",
    "else:\n",
    "    print(f'ERROR! The source_id is None.')\n",
    "\n",
    "df"
   ]
  },
  {
   "cell_type": "markdown",
   "id": "f06bc989-9793-40b9-9978-354627d7441a",
   "metadata": {},
   "source": [
    "### Reorder of dataframe columns"
   ]
  },
  {
   "cell_type": "code",
   "execution_count": 40,
   "id": "744f7696-2c8a-4bb9-8518-b2a4d68809e7",
   "metadata": {},
   "outputs": [
    {
     "data": {
      "text/html": [
       "<div>\n",
       "<style scoped>\n",
       "    .dataframe tbody tr th:only-of-type {\n",
       "        vertical-align: middle;\n",
       "    }\n",
       "\n",
       "    .dataframe tbody tr th {\n",
       "        vertical-align: top;\n",
       "    }\n",
       "\n",
       "    .dataframe thead th {\n",
       "        text-align: right;\n",
       "    }\n",
       "</style>\n",
       "<table border=\"1\" class=\"dataframe\">\n",
       "  <thead>\n",
       "    <tr style=\"text-align: right;\">\n",
       "      <th></th>\n",
       "      <th>title</th>\n",
       "      <th>content</th>\n",
       "      <th>date</th>\n",
       "      <th>url</th>\n",
       "      <th>category</th>\n",
       "      <th>author</th>\n",
       "      <th>source_id</th>\n",
       "    </tr>\n",
       "  </thead>\n",
       "  <tbody>\n",
       "    <tr>\n",
       "      <th>0</th>\n",
       "      <td>Así reaccionó Messi tras la victoria ante Bra...</td>\n",
       "      <td>Pese a que el triunfo de 0-1 de Argentina sobr...</td>\n",
       "      <td>2023-11-22</td>\n",
       "      <td>https://diarioelsalvador.com/asi-reacciono-mes...</td>\n",
       "      <td>1</td>\n",
       "      <td>1</td>\n",
       "      <td>1</td>\n",
       "    </tr>\n",
       "    <tr>\n",
       "      <th>1</th>\n",
       "      <td>Rebeca Duarte le da a El Salvador la segunda ...</td>\n",
       "      <td>La delegación salvadoreña que compite en los J...</td>\n",
       "      <td>2023-11-22</td>\n",
       "      <td>https://diarioelsalvador.com/rebeca-duarte-le-...</td>\n",
       "      <td>1</td>\n",
       "      <td>2</td>\n",
       "      <td>1</td>\n",
       "    </tr>\n",
       "    <tr>\n",
       "      <th>2</th>\n",
       "      <td>Inter Miami de Messi y Al Nassr de Cristiano ...</td>\n",
       "      <td>El Inter de Miami de Lionel Messi se enfrentar...</td>\n",
       "      <td>2023-11-21</td>\n",
       "      <td>https://diarioelsalvador.com/inter-miami-de-me...</td>\n",
       "      <td>1</td>\n",
       "      <td>3</td>\n",
       "      <td>1</td>\n",
       "    </tr>\n",
       "    <tr>\n",
       "      <th>3</th>\n",
       "      <td>Scaloni prepara cambios en Argentina y advier...</td>\n",
       "      <td>«El equipo lo tengo decidido, pero todavía no ...</td>\n",
       "      <td>2023-11-20</td>\n",
       "      <td>https://diarioelsalvador.com/scaloni-prepara-c...</td>\n",
       "      <td>1</td>\n",
       "      <td>4</td>\n",
       "      <td>1</td>\n",
       "    </tr>\n",
       "    <tr>\n",
       "      <th>4</th>\n",
       "      <td>Uriel Canjura campeón del XIV Torneo Internac...</td>\n",
       "      <td>Uriel Canjura, medallista de bronce recienteme...</td>\n",
       "      <td>2023-11-19</td>\n",
       "      <td>https://diarioelsalvador.com/uriel-canjura-cam...</td>\n",
       "      <td>1</td>\n",
       "      <td>5</td>\n",
       "      <td>1</td>\n",
       "    </tr>\n",
       "    <tr>\n",
       "      <th>...</th>\n",
       "      <td>...</td>\n",
       "      <td>...</td>\n",
       "      <td>...</td>\n",
       "      <td>...</td>\n",
       "      <td>...</td>\n",
       "      <td>...</td>\n",
       "      <td>...</td>\n",
       "    </tr>\n",
       "    <tr>\n",
       "      <th>16281</th>\n",
       "      <td>Extracción de mareros y droga en la comunidad...</td>\n",
       "      <td>Por tercer día consecutivo se ha mantenido la ...</td>\n",
       "      <td>2022-12-26</td>\n",
       "      <td>https://diarioelsalvador.com/extraccion-de-mar...</td>\n",
       "      <td>10</td>\n",
       "      <td>150</td>\n",
       "      <td>1</td>\n",
       "    </tr>\n",
       "    <tr>\n",
       "      <th>16282</th>\n",
       "      <td>Entregan ayuda económica a 104 familias de Sa...</td>\n",
       "      <td>La mañana de este viernes 8 de enero, 104 fami...</td>\n",
       "      <td>2021-01-08</td>\n",
       "      <td>https://diarioelsalvador.com/entregan-ayuda-ec...</td>\n",
       "      <td>10</td>\n",
       "      <td>48</td>\n",
       "      <td>1</td>\n",
       "    </tr>\n",
       "    <tr>\n",
       "      <th>16283</th>\n",
       "      <td>No está a la venta</td>\n",
       "      <td>En nuestro país, al referirse a la embajada se...</td>\n",
       "      <td>2021-12-11</td>\n",
       "      <td>https://diarioelsalvador.com/no-esta-a-la-vent...</td>\n",
       "      <td>10</td>\n",
       "      <td>371</td>\n",
       "      <td>1</td>\n",
       "    </tr>\n",
       "    <tr>\n",
       "      <th>16284</th>\n",
       "      <td>Honduras envía cientos de policías militares ...</td>\n",
       "      <td>Los miembros de la Policía Militar de Orden Pú...</td>\n",
       "      <td>2022-11-27</td>\n",
       "      <td>https://diarioelsalvador.com/honduras-envia-ci...</td>\n",
       "      <td>10</td>\n",
       "      <td>3</td>\n",
       "      <td>1</td>\n",
       "    </tr>\n",
       "    <tr>\n",
       "      <th>16285</th>\n",
       "      <td>Peligran en India los niños que la COVID-19 d...</td>\n",
       "      <td>Tres días después de la muerte de su padre a c...</td>\n",
       "      <td>2021-05-23</td>\n",
       "      <td>https://diarioelsalvador.com/peligran-en-india...</td>\n",
       "      <td>10</td>\n",
       "      <td>3</td>\n",
       "      <td>1</td>\n",
       "    </tr>\n",
       "  </tbody>\n",
       "</table>\n",
       "<p>16286 rows × 7 columns</p>\n",
       "</div>"
      ],
      "text/plain": [
       "                                                   title   \n",
       "0       Así reaccionó Messi tras la victoria ante Bra...  \\\n",
       "1       Rebeca Duarte le da a El Salvador la segunda ...   \n",
       "2       Inter Miami de Messi y Al Nassr de Cristiano ...   \n",
       "3       Scaloni prepara cambios en Argentina y advier...   \n",
       "4       Uriel Canjura campeón del XIV Torneo Internac...   \n",
       "...                                                  ...   \n",
       "16281   Extracción de mareros y droga en la comunidad...   \n",
       "16282   Entregan ayuda económica a 104 familias de Sa...   \n",
       "16283                                 No está a la venta   \n",
       "16284   Honduras envía cientos de policías militares ...   \n",
       "16285   Peligran en India los niños que la COVID-19 d...   \n",
       "\n",
       "                                                 content        date   \n",
       "0      Pese a que el triunfo de 0-1 de Argentina sobr...  2023-11-22  \\\n",
       "1      La delegación salvadoreña que compite en los J...  2023-11-22   \n",
       "2      El Inter de Miami de Lionel Messi se enfrentar...  2023-11-21   \n",
       "3      «El equipo lo tengo decidido, pero todavía no ...  2023-11-20   \n",
       "4      Uriel Canjura, medallista de bronce recienteme...  2023-11-19   \n",
       "...                                                  ...         ...   \n",
       "16281  Por tercer día consecutivo se ha mantenido la ...  2022-12-26   \n",
       "16282  La mañana de este viernes 8 de enero, 104 fami...  2021-01-08   \n",
       "16283  En nuestro país, al referirse a la embajada se...  2021-12-11   \n",
       "16284  Los miembros de la Policía Militar de Orden Pú...  2022-11-27   \n",
       "16285  Tres días después de la muerte de su padre a c...  2021-05-23   \n",
       "\n",
       "                                                     url  category  author   \n",
       "0      https://diarioelsalvador.com/asi-reacciono-mes...         1       1  \\\n",
       "1      https://diarioelsalvador.com/rebeca-duarte-le-...         1       2   \n",
       "2      https://diarioelsalvador.com/inter-miami-de-me...         1       3   \n",
       "3      https://diarioelsalvador.com/scaloni-prepara-c...         1       4   \n",
       "4      https://diarioelsalvador.com/uriel-canjura-cam...         1       5   \n",
       "...                                                  ...       ...     ...   \n",
       "16281  https://diarioelsalvador.com/extraccion-de-mar...        10     150   \n",
       "16282  https://diarioelsalvador.com/entregan-ayuda-ec...        10      48   \n",
       "16283  https://diarioelsalvador.com/no-esta-a-la-vent...        10     371   \n",
       "16284  https://diarioelsalvador.com/honduras-envia-ci...        10       3   \n",
       "16285  https://diarioelsalvador.com/peligran-en-india...        10       3   \n",
       "\n",
       "       source_id  \n",
       "0              1  \n",
       "1              1  \n",
       "2              1  \n",
       "3              1  \n",
       "4              1  \n",
       "...          ...  \n",
       "16281          1  \n",
       "16282          1  \n",
       "16283          1  \n",
       "16284          1  \n",
       "16285          1  \n",
       "\n",
       "[16286 rows x 7 columns]"
      ]
     },
     "execution_count": 40,
     "metadata": {},
     "output_type": "execute_result"
    }
   ],
   "source": [
    "df = df[['title', 'content', 'date', 'url', 'category', 'author', 'source_id']]\n",
    "df"
   ]
  },
  {
   "cell_type": "markdown",
   "id": "7c607a82-a49f-40f8-8510-32f39fb2fb3d",
   "metadata": {},
   "source": [
    "### Insert values in the database"
   ]
  },
  {
   "cell_type": "code",
   "execution_count": 41,
   "id": "49e47d91-f152-4e7a-8683-f3ef15de996a",
   "metadata": {},
   "outputs": [
    {
     "name": "stdout",
     "output_type": "stream",
     "text": [
      "Numer of articles: 16286\n"
     ]
    }
   ],
   "source": [
    "articles = []\n",
    "for article in df.values:\n",
    "    articles.append(tuple(article))\n",
    "\n",
    "print(f'Numer of articles: {len(articles)}')"
   ]
  },
  {
   "cell_type": "code",
   "execution_count": 42,
   "id": "700bd27a-6f15-4c8c-b642-67788b9b73cf",
   "metadata": {},
   "outputs": [],
   "source": [
    "article_insert_query = 'INSERT INTO Articles(title, content, publication_date, url, Categories_category_id, Authors_author_id, Sources_source_id) VALUES (%s, %s, %s, %s, %s, %s, %s)'"
   ]
  },
  {
   "cell_type": "code",
   "execution_count": 43,
   "id": "b18f6785-cfe6-4a12-9c59-d52ccab1273b",
   "metadata": {},
   "outputs": [],
   "source": [
    "cursor.executemany(article_insert_query, articles)"
   ]
  },
  {
   "cell_type": "code",
   "execution_count": 44,
   "id": "3a4bf9f3-b163-41b9-aa59-ab638761ffe6",
   "metadata": {},
   "outputs": [],
   "source": [
    "database.commit()"
   ]
  },
  {
   "cell_type": "markdown",
   "id": "a34967bd-5995-438e-b464-cccbdb5e359e",
   "metadata": {},
   "source": [
    "### Show values in the database"
   ]
  },
  {
   "cell_type": "code",
   "execution_count": 45,
   "id": "083717f4-acc3-4936-bd03-0b6cdb96b3a9",
   "metadata": {},
   "outputs": [
    {
     "name": "stdout",
     "output_type": "stream",
     "text": [
      "(1, ' Así reaccionó Messi tras la victoria ante Brasil «marcada por la represión a los argentinos»', 'Pese a que el triunfo de 0-1 de Argentina sobre Brasil en el Estadio Maracaná, en Río de Janeiro, fue histórico, no todo ha sido fiesta en el mundo del fútbol debido a los hechos violentos registrados momentos antes de iniciar el encuentro disputado ayer martes. El inicio del partido se retrasó varios minutos debido a un altercado entre la policía brasileña y aficionados argentinos. Las imágenes de varias cadenas televisivas internacionales mostraron la represión de la que fueron objetos los hinchas de la albiceleste por parte de las autoridades brasileñas. A post shared by Leo Messi (@leomessi) Ante esto, Lionel Messi, capitán y máxima figura de Argentina, externó su condena a estos hechos y celebró con mesura la victoria, no dejando de remarcar que este tipo de incidentes no tienen cabida en la fiesta que debería ser cada partido de fútbol en el mundo. «Este equipo sigue haciendo historia… Gran victoria en el Maracaná aunque quedará marcada por la represión a los argentinos una vez más en Brasil. Esto no se puede tolerar es una locura y se tiene que terminar ya!!», publicó Messi. El partido acabó con victoria para Argentina con gol de Nicolás Otamendi en el segundo tiempo, siendo la primera vez en la historia que Brasil es derrotado en su propio estadio en las eliminatorias mundialistas de la CONMEBOL. ', datetime.datetime(2023, 11, 22, 0, 0), 'https://diarioelsalvador.com/asi-reacciono-messi-tras-la-victoria-ante-brasil-marcada-por-la-represion-a-los-argentinos/430506/', None, 1, 1, 1)\n",
      "(2, ' Rebeca Duarte le da a El Salvador la segunda medalla en Parapanamericanos', 'La delegación salvadoreña que compite en los Juegos Parapanamericanos ya suma dos medallas en la tabla de países que compiten en Santiago 2023, gracias a la presea de plata que se adjudicó, este miércoles, Rebeca Duarte, en boccias, clase BC2.} #DeDeportes | ¡EL SALVADOR CON MEDALLA DE PLATA! 🥈🙌 Rebeca Duarte se quedó con la medalla de plata luego de perder la final 3-7 ante la mexicana Karina Martínez, en boccia clase BC2 de los Juegos Parapanamericanos @santiago2023. Foto: @indeselsalvador. pic.twitter.com/oeaNXTC1Qb La cuscatleca, subcampeona mundial el año pasado en el World Boccia Championships, que se desarrolló en Río de Janeiro, Brasil, perdió por 7-3 antr la mexicana Karina Martínez, en la disputa de la medalla de oro. En la ronda de semifinales, Duarte derrotó 5-0 a la canadiense Kristyn Collins, con lo que se agenció el derecho de llegar a competir este miércoles la disputa de la presea dorada. Yamil Bukele, presidente del Instituto Nacional de los Deportes, felicitó a Rebeca en su cuenta de X: «Nos sentimos muy orgullosos por este gran triunfo de Rebeca, un ejemplo para todas las mujeres salvadoreñas por su esfuerzo, entrega y lucha». Siempre en boccias, clase BC2, Mario Sayes perdió la partida en el que estaba en disputa la medalla de bronce, pero se queda con un cuarto lugar a nivel de América. El argentino Luis Cristaldo derrotó al cuscatleco por 5-2. ', datetime.datetime(2023, 11, 22, 0, 0), 'https://diarioelsalvador.com/rebeca-duarte-le-da-a-el-salvador-la-segunda-medalla-en-parapanamericanos/430491/', None, 1, 2, 1)\n",
      "(3, ' Inter Miami de Messi y Al Nassr de Cristiano Ronaldo se citan en febrero en Riad', 'El Inter de Miami de Lionel Messi se enfrentará al Al Nassr de Cristiano Ronaldo en febrero en Riad (Arabia Saudita), en lo que podría ser el último choque entre las dos superestrellas del fútbol mundial, informaron este martes los organizadores del evento. «El Inter Miami CF de la Major League Soccer ha sido confirmado como el equipo internacional invitado a participar en la Riyadh Season Cup junto a los clubes de la Pro League Saudí Al Hilal y Al Nassr», en la primera semana de febrero, señala el comunicado difundido por los organizadores. Messi -ganador ocho veces del Balón de Oro- que se incorporó al equipo estadounidense en julio y se proclamó campeón de la Copa de la Liga contra clubes de la MLS y México, se enfrentará a Ronaldo, quien sumó en su carrera cinco distinciones, reeditando el duelo de goleadores más impactante de las últimas décadas. El duelo entre ambos se producirá con Messi campeón del mundo con su Argentina, tras la coronación en Catar-2022. A la presencia estelar de Messi y Cristiano Ronaldo se suman otras estrellas mundiales como los compañeros del argentino Jordi Alba y Sergio Busquets, también parceros de Messi en el Barcelona. Ronaldo, cinco veces ganador de la Liga de Campeones de Europa, está acompañado en el Al Nassr por Sadio Mané, exjugador del Liverpool y Marcelo Brozovic, excapitán del Inter de Milán. El Al-Hilal cuenta con el máximo goleador con la selección de Brasil de todos los tiempos y excompañero de Messi, Neymar, quien se recupera de una lesión de rodilla. ', datetime.datetime(2023, 11, 21, 0, 0), 'https://diarioelsalvador.com/inter-miami-de-messi-y-al-nassr-de-cristiano-ronaldo-se-citan-en-febrero-en-riad/430200/', None, 1, 3, 1)\n",
      "(4, ' Scaloni prepara cambios en Argentina y advierte: «es Brasil, sabemos lo que significa»', '«El equipo lo tengo decidido, pero todavía no se los dije a los jugadores. (Ángel) Di María tiene posibilidades de estar, al igual que sus compañeros. Vamos a tocar (hacer cambios), pero no mucho. Si hay cambios, que va a haber algunos, no será por rendimiento», advirtió el entrenador de la Albiceleste. Aunque Scaloni no confirmó la formación, son probables los ingresos de Di María por Nicolás González en un extremo, o la chance de sumar en el mediocampo a Leandro Paredes, y dejar a Lionel Messi en el ataque junto a Lautaro Martínez o Julián Álvarez. En cuanto a la situación de Brasil, ubicado en un incómodo quinto puesto de la clasificatoria, y que viene de sufrir dos derrotas en fila, el DT consideró que «es relativo decir que viene golpeado, hizo un buen partido contra Colombia hasta el minuto 76. El resultado es engañoso. Brasil tiene buen nivel». «Son selecciones grandes, que vengan como vengan tienen que salir a ganar. No va a cambiar el momento del equipo, el entrenador tiene una manera de jugar, que no la va a cambiar. Nunca se sabe si es un buen o un mal momento, es Brasil y sabemos lo que significa», remarcó. Respecto de las bajas importantes en Brasil como los lesionados Neymar y Vinicius, el entrenador argentino consideró que «tienen reemplazos. Si mirás el equipo que dicen que va a jugar, son todos jugadores de primer nivel, jóvenes, rápidos, con trayectoria en equipos importantes y seguramente su entrenador tendrá preparado algo por la falta de figuras». La Albiceleste regresa al Maracaná dos años después de alzar allí la Copa América-2021, pero el DT advirtió que «siempre hay que pensar en el presente. Es un clásico, es Brasil, en su cancha. Tiene un condimento especial y no hace falta recordar la Copa América, pasó mucho, dos años y medio, y los jugadores son otros». ', datetime.datetime(2023, 11, 20, 0, 0), 'https://diarioelsalvador.com/scaloni-prepara-cambios-en-argentina-y-advierte-es-brasil-sabemos-lo-que-significa/429774/', None, 1, 4, 1)\n",
      "(5, ' Uriel Canjura campeón del XIV Torneo Internacional de Bádminton en Surinam', 'Uriel Canjura, medallista de bronce recientemente en los Juegos Deportivos Panamericanos Santiago 2023, cosechó un nuevo triunfo en el campo internacional, al coronarse campeón este domingo del XIV Torneo Internacional de Bádminton Surinam 2023. El seleccionado nacional venció en la final en dos sets (21-11 y 21-12) al italiano Juan Totti, ranqueado dos en la llave principal del torneo, sumando de esta manera un título más a su palmarés. Antes del duelo por la final, Canjura, quien forma parte del Programa Esfuerzo y Gloria del Instituto Nacional de los Deportes (INDES), se abrió paso a la final de este torneo internacional, gracias al triunfo que obtuvo en semifinales 2-1 (12-21, 21-16 y 21-15) ante el también italiano Fabio Caponio. Con esta conquista en el caribe, Canjura sigue perfilándose entre los deportistas que más éxitos han cosechado en este año, a excepción de los Juegos San Salvador 2023, en los que no pudo meterse al podio, tanto en dobles como en individual. ', datetime.datetime(2023, 11, 19, 0, 0), 'https://diarioelsalvador.com/uriel-canjura-campeon-del-xv-torneo-internacional-en-surinam/429436/', None, 1, 5, 1)\n"
     ]
    }
   ],
   "source": [
    "cursor.execute(\"SELECT * FROM Articles\")\n",
    "articles_result = cursor.fetchall()\n",
    "\n",
    "for result in articles_result[:5]:\n",
    "  print(result)"
   ]
  },
  {
   "cell_type": "code",
   "execution_count": 46,
   "id": "39845a16-7a47-4ec6-af87-e138b59f5b8e",
   "metadata": {},
   "outputs": [],
   "source": [
    "database.close()"
   ]
  },
  {
   "cell_type": "markdown",
   "id": "7df7cbb1-dca0-49f5-8e5c-36c260695111",
   "metadata": {},
   "source": [
    "## Sources_has_Authors table\n",
    "\n",
    "- `Sources_source_id`\n",
    "- `Authors_author_id`"
   ]
  },
  {
   "cell_type": "markdown",
   "id": "297c3b77-a015-4ecb-9ee9-60601db03516",
   "metadata": {},
   "source": [
    "### Insert values in the database"
   ]
  },
  {
   "cell_type": "code",
   "execution_count": 80,
   "id": "ad7b8978-fd0d-4281-b7b6-351383ce5450",
   "metadata": {},
   "outputs": [
    {
     "data": {
      "text/plain": [
       "0          1\n",
       "1          2\n",
       "2          3\n",
       "3          4\n",
       "4          5\n",
       "        ... \n",
       "16281    150\n",
       "16282     48\n",
       "16283    371\n",
       "16284      3\n",
       "16285      3\n",
       "Name: author, Length: 16286, dtype: int64"
      ]
     },
     "execution_count": 80,
     "metadata": {},
     "output_type": "execute_result"
    }
   ],
   "source": [
    "source_author_df = df.author.copy()\n",
    "source_author_df"
   ]
  },
  {
   "cell_type": "code",
   "execution_count": 81,
   "id": "076b0f00-bffa-45f6-bd53-67c8788b5ce4",
   "metadata": {},
   "outputs": [
    {
     "data": {
      "text/plain": [
       "0          1\n",
       "1          2\n",
       "2          3\n",
       "3          4\n",
       "4          5\n",
       "        ... \n",
       "16085    801\n",
       "16091    802\n",
       "16130    803\n",
       "16228    804\n",
       "16260    805\n",
       "Name: author, Length: 805, dtype: int64"
      ]
     },
     "execution_count": 81,
     "metadata": {},
     "output_type": "execute_result"
    }
   ],
   "source": [
    "source_author_df.drop_duplicates(inplace=True)\n",
    "source_author_df"
   ]
  },
  {
   "cell_type": "code",
   "execution_count": 82,
   "id": "47c1ef64-74d2-43a8-a709-924dc3e3c26c",
   "metadata": {},
   "outputs": [
    {
     "data": {
      "text/html": [
       "<div>\n",
       "<style scoped>\n",
       "    .dataframe tbody tr th:only-of-type {\n",
       "        vertical-align: middle;\n",
       "    }\n",
       "\n",
       "    .dataframe tbody tr th {\n",
       "        vertical-align: top;\n",
       "    }\n",
       "\n",
       "    .dataframe thead th {\n",
       "        text-align: right;\n",
       "    }\n",
       "</style>\n",
       "<table border=\"1\" class=\"dataframe\">\n",
       "  <thead>\n",
       "    <tr style=\"text-align: right;\">\n",
       "      <th></th>\n",
       "      <th>author</th>\n",
       "      <th>source_id</th>\n",
       "    </tr>\n",
       "    <tr>\n",
       "      <th>index</th>\n",
       "      <th></th>\n",
       "      <th></th>\n",
       "    </tr>\n",
       "  </thead>\n",
       "  <tbody>\n",
       "    <tr>\n",
       "      <th>0</th>\n",
       "      <td>1</td>\n",
       "      <td>1</td>\n",
       "    </tr>\n",
       "    <tr>\n",
       "      <th>1</th>\n",
       "      <td>2</td>\n",
       "      <td>1</td>\n",
       "    </tr>\n",
       "    <tr>\n",
       "      <th>2</th>\n",
       "      <td>3</td>\n",
       "      <td>1</td>\n",
       "    </tr>\n",
       "    <tr>\n",
       "      <th>3</th>\n",
       "      <td>4</td>\n",
       "      <td>1</td>\n",
       "    </tr>\n",
       "    <tr>\n",
       "      <th>4</th>\n",
       "      <td>5</td>\n",
       "      <td>1</td>\n",
       "    </tr>\n",
       "    <tr>\n",
       "      <th>...</th>\n",
       "      <td>...</td>\n",
       "      <td>...</td>\n",
       "    </tr>\n",
       "    <tr>\n",
       "      <th>16085</th>\n",
       "      <td>801</td>\n",
       "      <td>1</td>\n",
       "    </tr>\n",
       "    <tr>\n",
       "      <th>16091</th>\n",
       "      <td>802</td>\n",
       "      <td>1</td>\n",
       "    </tr>\n",
       "    <tr>\n",
       "      <th>16130</th>\n",
       "      <td>803</td>\n",
       "      <td>1</td>\n",
       "    </tr>\n",
       "    <tr>\n",
       "      <th>16228</th>\n",
       "      <td>804</td>\n",
       "      <td>1</td>\n",
       "    </tr>\n",
       "    <tr>\n",
       "      <th>16260</th>\n",
       "      <td>805</td>\n",
       "      <td>1</td>\n",
       "    </tr>\n",
       "  </tbody>\n",
       "</table>\n",
       "<p>805 rows × 2 columns</p>\n",
       "</div>"
      ],
      "text/plain": [
       "       author  source_id\n",
       "index                   \n",
       "0           1          1\n",
       "1           2          1\n",
       "2           3          1\n",
       "3           4          1\n",
       "4           5          1\n",
       "...       ...        ...\n",
       "16085     801          1\n",
       "16091     802          1\n",
       "16130     803          1\n",
       "16228     804          1\n",
       "16260     805          1\n",
       "\n",
       "[805 rows x 2 columns]"
      ]
     },
     "execution_count": 82,
     "metadata": {},
     "output_type": "execute_result"
    }
   ],
   "source": [
    "source_author_df = source_author_df.reset_index()\n",
    "if source_id is not None:\n",
    "    source_author_df['source_id'] =  source_id\n",
    "else:\n",
    "    print(f'ERROR! The source_id is None.')\n",
    "\n",
    "source_author_df.set_index('index', inplace=True)\n",
    "source_author_df"
   ]
  },
  {
   "cell_type": "code",
   "execution_count": 83,
   "id": "32bfa89b-579d-4d4c-ba02-466abd34e963",
   "metadata": {},
   "outputs": [
    {
     "data": {
      "text/html": [
       "<div>\n",
       "<style scoped>\n",
       "    .dataframe tbody tr th:only-of-type {\n",
       "        vertical-align: middle;\n",
       "    }\n",
       "\n",
       "    .dataframe tbody tr th {\n",
       "        vertical-align: top;\n",
       "    }\n",
       "\n",
       "    .dataframe thead th {\n",
       "        text-align: right;\n",
       "    }\n",
       "</style>\n",
       "<table border=\"1\" class=\"dataframe\">\n",
       "  <thead>\n",
       "    <tr style=\"text-align: right;\">\n",
       "      <th></th>\n",
       "      <th>source_id</th>\n",
       "      <th>author</th>\n",
       "    </tr>\n",
       "    <tr>\n",
       "      <th>index</th>\n",
       "      <th></th>\n",
       "      <th></th>\n",
       "    </tr>\n",
       "  </thead>\n",
       "  <tbody>\n",
       "    <tr>\n",
       "      <th>0</th>\n",
       "      <td>1</td>\n",
       "      <td>1</td>\n",
       "    </tr>\n",
       "    <tr>\n",
       "      <th>1</th>\n",
       "      <td>1</td>\n",
       "      <td>2</td>\n",
       "    </tr>\n",
       "    <tr>\n",
       "      <th>2</th>\n",
       "      <td>1</td>\n",
       "      <td>3</td>\n",
       "    </tr>\n",
       "    <tr>\n",
       "      <th>3</th>\n",
       "      <td>1</td>\n",
       "      <td>4</td>\n",
       "    </tr>\n",
       "    <tr>\n",
       "      <th>4</th>\n",
       "      <td>1</td>\n",
       "      <td>5</td>\n",
       "    </tr>\n",
       "    <tr>\n",
       "      <th>...</th>\n",
       "      <td>...</td>\n",
       "      <td>...</td>\n",
       "    </tr>\n",
       "    <tr>\n",
       "      <th>16085</th>\n",
       "      <td>1</td>\n",
       "      <td>801</td>\n",
       "    </tr>\n",
       "    <tr>\n",
       "      <th>16091</th>\n",
       "      <td>1</td>\n",
       "      <td>802</td>\n",
       "    </tr>\n",
       "    <tr>\n",
       "      <th>16130</th>\n",
       "      <td>1</td>\n",
       "      <td>803</td>\n",
       "    </tr>\n",
       "    <tr>\n",
       "      <th>16228</th>\n",
       "      <td>1</td>\n",
       "      <td>804</td>\n",
       "    </tr>\n",
       "    <tr>\n",
       "      <th>16260</th>\n",
       "      <td>1</td>\n",
       "      <td>805</td>\n",
       "    </tr>\n",
       "  </tbody>\n",
       "</table>\n",
       "<p>805 rows × 2 columns</p>\n",
       "</div>"
      ],
      "text/plain": [
       "       source_id  author\n",
       "index                   \n",
       "0              1       1\n",
       "1              1       2\n",
       "2              1       3\n",
       "3              1       4\n",
       "4              1       5\n",
       "...          ...     ...\n",
       "16085          1     801\n",
       "16091          1     802\n",
       "16130          1     803\n",
       "16228          1     804\n",
       "16260          1     805\n",
       "\n",
       "[805 rows x 2 columns]"
      ]
     },
     "execution_count": 83,
     "metadata": {},
     "output_type": "execute_result"
    }
   ],
   "source": [
    "source_author_df = source_author_df[['source_id', 'author']]\n",
    "source_author_df"
   ]
  },
  {
   "cell_type": "code",
   "execution_count": 100,
   "id": "e54b39d2-9c99-4865-9384-4c2d6a170779",
   "metadata": {},
   "outputs": [
    {
     "name": "stdout",
     "output_type": "stream",
     "text": [
      "source_author array size: 805\n"
     ]
    }
   ],
   "source": [
    "source_authors = []\n",
    "for source_author in source_author_df.values:\n",
    "    value1, value2 = source_author\n",
    "    value1, value2 = int(value1), int(value2)\n",
    "    \n",
    "    source_authors.append((value1, value2))\n",
    "\n",
    "print(f'source_author array size: {len(source_authors)}')"
   ]
  },
  {
   "cell_type": "code",
   "execution_count": 101,
   "id": "cd12c3f8-3814-4882-8b9f-b38b84a2a714",
   "metadata": {},
   "outputs": [],
   "source": [
    "source_authors_insert_query = 'INSERT INTO Sources_has_Authors(Sources_source_id, Authors_author_id) VALUES (%s, %s)'"
   ]
  },
  {
   "cell_type": "code",
   "execution_count": 102,
   "id": "1eb83dc4-0f47-4983-adce-70c83c831a57",
   "metadata": {},
   "outputs": [],
   "source": [
    "cursor.executemany(source_authors_insert_query, source_authors)"
   ]
  },
  {
   "cell_type": "code",
   "execution_count": 103,
   "id": "b34f0c6f-de39-4f32-9901-42fa412abe96",
   "metadata": {},
   "outputs": [],
   "source": [
    "database.commit()"
   ]
  },
  {
   "cell_type": "code",
   "execution_count": 104,
   "id": "2565c35f-e766-4556-a0fb-b9b5701059e8",
   "metadata": {},
   "outputs": [],
   "source": [
    "database.close()"
   ]
  }
 ],
 "metadata": {
  "kernelspec": {
   "display_name": "Python 3 (ipykernel)",
   "language": "python",
   "name": "python3"
  },
  "language_info": {
   "codemirror_mode": {
    "name": "ipython",
    "version": 3
   },
   "file_extension": ".py",
   "mimetype": "text/x-python",
   "name": "python",
   "nbconvert_exporter": "python",
   "pygments_lexer": "ipython3",
   "version": "3.10.12"
  }
 },
 "nbformat": 4,
 "nbformat_minor": 5
}
